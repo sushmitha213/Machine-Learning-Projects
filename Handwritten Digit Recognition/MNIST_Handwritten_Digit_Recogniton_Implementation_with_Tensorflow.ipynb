{
 "cells": [
  {
   "cell_type": "markdown",
   "id": "9e455da6-5230-4055-904f-ea90b77de971",
   "metadata": {},
   "source": [
    "<h2> MNIST Digit Recognition - CNN - Tensorflow Implementation </h2>"
   ]
  },
  {
   "cell_type": "markdown",
   "id": "5d0869c2-8825-42b7-a4bf-c512b6a933c2",
   "metadata": {},
   "source": [
    "<b> About the Project </b>\n",
    "<br>\n",
    "<p> \n",
    "In this project we will be implementing a Convolutional Neural Network (CNN) with the aim to classify the MNIST Handwritten Digits (0-9) into their respective target classes - 0 to 9. This project can be considered the basics of neural networks and deep neural networks and also as the basics of computer vision as well. \n",
    "\n",
    "<br>\n",
    "\n",
    "<b> Aim of this project </b>\n",
    "- Implement a CNN network, train it on MNIST dataset and save the high performing network\n",
    "- Preprocess and normalize the dataset before training.\n",
    "- Train an MLP model, CNN models with 1, 2 and 3 CNN layers respectively and compare the performance .\n",
    "\n",
    "<b> Why CNN is being used </b>\n",
    "- CNNs can capture patterns like edges, shapes, and textures.\n",
    "- In this project we are using 3 convolutional layers, 1st to detect edges, 2nd to maybe detect curves or corners and final for loops or other high level structures\n",
    "- They are translation invariant — they can detect a digit even if it’s slightly shifted - so even if input data is augmented by a bit, unlike machine learning models, these can detect the digit with ease. So the extra data augmentation in the preprocessing steps is not needed prior to training. \n",
    "\n",
    "</p>"
   ]
  },
  {
   "cell_type": "code",
   "execution_count": 97,
   "id": "86895918-ae90-4b96-8774-007924251e21",
   "metadata": {},
   "outputs": [],
   "source": [
    "import tensorflow as tf\n",
    "import matplotlib.pyplot as plt\n",
    "import numpy as np\n",
    "from sklearn.model_selection import train_test_split\n",
    "from tensorflow import keras"
   ]
  },
  {
   "cell_type": "markdown",
   "id": "caed4e39-78aa-492c-8333-a7f0b6de168c",
   "metadata": {},
   "source": [
    "<h4> About the MNIST Dataset and Import </h4>\n",
    "\n",
    "Here we will be importing the dataset from Tensorflow's built-in datasets. \n",
    "\n",
    "<b> About the MNIST Dataset </b>\n",
    "- MNIST (Modified National Institute of Standards and Technology) consists of 70000 images of handwritten digits. This dataset is considered the benchmark dataset in machine learning.\n",
    "- Formed by collected 28 * 28 pixel images of digits written by 250 different people.\n",
    "- Total Images: 70000, out of which 60000 is for training and 10000 is used for testing.\n",
    "- The target labels in this dataset range from 0 - 9."
   ]
  },
  {
   "cell_type": "code",
   "execution_count": 98,
   "id": "69cef811-2df2-4d85-a047-d598ee11f0ca",
   "metadata": {},
   "outputs": [
    {
     "name": "stdout",
     "output_type": "stream",
     "text": [
      "(60000, 28, 28) (60000,) (10000, 28, 28) (10000,)\n"
     ]
    }
   ],
   "source": [
    "# Dataset Import \n",
    "\n",
    "(x_train_full, y_train_full), (x_test, y_test) = tf.keras.datasets.mnist.load_data()\n",
    "print(x_train_full.shape, y_train_full.shape, x_test.shape, y_test.shape)"
   ]
  },
  {
   "cell_type": "code",
   "execution_count": 99,
   "id": "6af7d364-5141-401f-8451-c48187e3faf3",
   "metadata": {},
   "outputs": [
    {
     "data": {
      "image/png": "[encoded data removed]",
      "text/plain": [
       "<Figure size 640x480 with 10 Axes>"
      ]
     },
     "metadata": {},
     "output_type": "display_data"
    }
   ],
   "source": [
    "# Printing Sample Images of Each Class\n",
    "\n",
    "fig, ax = plt.subplots(nrows = 2, ncols = 5, sharex = True, sharey = True)\n",
    "ax = ax.flatten()\n",
    "\n",
    "for i in range(10):\n",
    "    digit = x_train_full[y_train_full == i][0]\n",
    "    ax[i].imshow(digit, cmap = \"Greys\")\n",
    "ax[0].set_xticks([])\n",
    "ax[0].set_yticks([])\n",
    "plt.tight_layout()"
   ]
  },
  {
   "cell_type": "markdown",
   "id": "1944b2c8-46cb-455a-b6d3-148df70eacba",
   "metadata": {},
   "source": [
    "<h4> Normalizing the Dataset </h4>\n",
    "\n",
    "- The original pixel values in MNIST range from 0 to 255.\n",
    "- Neural networks perform better when inputs are in a smaller, consistent range, typically between 0 and 1.\n",
    "- This helps:\n",
    "    - Speed up convergence\n",
    "    - Improve numerical stability\n",
    "    - Prevent issues with gradient vanishing/exploding"
   ]
  },
  {
   "cell_type": "code",
   "execution_count": 100,
   "id": "b40d545a-ba27-464e-a523-4ced21c4ab90",
   "metadata": {},
   "outputs": [
    {
     "name": "stdout",
     "output_type": "stream",
     "text": [
      "(55000, 28, 28) (55000,) (5000, 28, 28) (5000,)\n"
     ]
    }
   ],
   "source": [
    "# Normalizing the Dataset to 0 - 1 range. \n",
    "# Then shuffling and splitting into train, validation and test sets.\n",
    "np.random.seed(42)\n",
    "shuffle_indices = np.random.permutation(60000)\n",
    "x_train_full, y_train_full = x_train_full[shuffle_indices], y_train_full[shuffle_indices]\n",
    "\n",
    "x_train_full, x_test = x_train_full / 255, x_test / 255\n",
    "\n",
    "x_train, x_val, y_train, y_val = train_test_split(x_train_full, y_train_full, test_size = 5000, random_state = 42, stratify = y_train_full)\n",
    "print(x_train.shape, y_train.shape, x_val.shape, y_val.shape)"
   ]
  },
  {
   "cell_type": "markdown",
   "id": "bb8d77c7-f7b5-4f55-a99b-62471a48ddef",
   "metadata": {},
   "source": [
    "<h4> Implementing a simple MLP Model </h4>\n",
    "\n",
    "This is only being done to compare the performance against our CNN Models.  \n",
    "\n",
    "\n",
    "<b> ** Note ** </b>\n",
    "Last layer activation is set to softmax at all times because we are dealing with multicass targets. "
   ]
  },
  {
   "cell_type": "code",
   "execution_count": 48,
   "id": "bd879ed0-eafb-4397-b45d-fe15555e081b",
   "metadata": {},
   "outputs": [],
   "source": [
    "# Implementing MLP model\n",
    "\n",
    "mlp_model = keras.models.Sequential([\n",
    "    keras.Input(shape = (28, 28)),\n",
    "    keras.layers.Flatten(),\n",
    "    keras.layers.Dense(500, activation = \"relu\"),\n",
    "    keras.layers.Dense(250, activation = \"relu\"),\n",
    "    keras.layers.Dense(10, activation = \"softmax\"),\n",
    "])"
   ]
  },
  {
   "cell_type": "code",
   "execution_count": 49,
   "id": "676a34fa-aa0a-4677-b62f-5cb49f7329f2",
   "metadata": {},
   "outputs": [
    {
     "data": {
      "text/html": [
       "<pre style=\"white-space:pre;overflow-x:auto;line-height:normal;font-family:Menlo,'DejaVu Sans Mono',consolas,'Courier New',monospace\"><span style=\"font-weight: bold\">Model: \"sequential_6\"</span>\n",
       "</pre>\n"
      ],
      "text/plain": [
       "\u001b[1mModel: \"sequential_6\"\u001b[0m\n"
      ]
     },
     "metadata": {},
     "output_type": "display_data"
    },
    {
     "data": {
      "text/html": [
       "<pre style=\"white-space:pre;overflow-x:auto;line-height:normal;font-family:Menlo,'DejaVu Sans Mono',consolas,'Courier New',monospace\">┏━━━━━━━━━━━━━━━━━━━━━━━━━━━━━━━━━━━━━━┳━━━━━━━━━━━━━━━━━━━━━━━━━━━━━┳━━━━━━━━━━━━━━━━━┓\n",
       "┃<span style=\"font-weight: bold\"> Layer (type)                         </span>┃<span style=\"font-weight: bold\"> Output Shape                </span>┃<span style=\"font-weight: bold\">         Param # </span>┃\n",
       "┡━━━━━━━━━━━━━━━━━━━━━━━━━━━━━━━━━━━━━━╇━━━━━━━━━━━━━━━━━━━━━━━━━━━━━╇━━━━━━━━━━━━━━━━━┩\n",
       "│ flatten_6 (<span style=\"color: #0087ff; text-decoration-color: #0087ff\">Flatten</span>)                  │ (<span style=\"color: #00d7ff; text-decoration-color: #00d7ff\">None</span>, <span style=\"color: #00af00; text-decoration-color: #00af00\">784</span>)                 │               <span style=\"color: #00af00; text-decoration-color: #00af00\">0</span> │\n",
       "├──────────────────────────────────────┼─────────────────────────────┼─────────────────┤\n",
       "│ dense_12 (<span style=\"color: #0087ff; text-decoration-color: #0087ff\">Dense</span>)                     │ (<span style=\"color: #00d7ff; text-decoration-color: #00d7ff\">None</span>, <span style=\"color: #00af00; text-decoration-color: #00af00\">500</span>)                 │         <span style=\"color: #00af00; text-decoration-color: #00af00\">392,500</span> │\n",
       "├──────────────────────────────────────┼─────────────────────────────┼─────────────────┤\n",
       "│ dense_13 (<span style=\"color: #0087ff; text-decoration-color: #0087ff\">Dense</span>)                     │ (<span style=\"color: #00d7ff; text-decoration-color: #00d7ff\">None</span>, <span style=\"color: #00af00; text-decoration-color: #00af00\">250</span>)                 │         <span style=\"color: #00af00; text-decoration-color: #00af00\">125,250</span> │\n",
       "├──────────────────────────────────────┼─────────────────────────────┼─────────────────┤\n",
       "│ dense_14 (<span style=\"color: #0087ff; text-decoration-color: #0087ff\">Dense</span>)                     │ (<span style=\"color: #00d7ff; text-decoration-color: #00d7ff\">None</span>, <span style=\"color: #00af00; text-decoration-color: #00af00\">10</span>)                  │           <span style=\"color: #00af00; text-decoration-color: #00af00\">2,510</span> │\n",
       "└──────────────────────────────────────┴─────────────────────────────┴─────────────────┘\n",
       "</pre>\n"
      ],
      "text/plain": [
       "┏━━━━━━━━━━━━━━━━━━━━━━━━━━━━━━━━━━━━━━┳━━━━━━━━━━━━━━━━━━━━━━━━━━━━━┳━━━━━━━━━━━━━━━━━┓\n",
       "┃\u001b[1m \u001b[0m\u001b[1mLayer (type)                        \u001b[0m\u001b[1m \u001b[0m┃\u001b[1m \u001b[0m\u001b[1mOutput Shape               \u001b[0m\u001b[1m \u001b[0m┃\u001b[1m \u001b[0m\u001b[1m        Param #\u001b[0m\u001b[1m \u001b[0m┃\n",
       "┡━━━━━━━━━━━━━━━━━━━━━━━━━━━━━━━━━━━━━━╇━━━━━━━━━━━━━━━━━━━━━━━━━━━━━╇━━━━━━━━━━━━━━━━━┩\n",
       "│ flatten_6 (\u001b[38;5;33mFlatten\u001b[0m)                  │ (\u001b[38;5;45mNone\u001b[0m, \u001b[38;5;34m784\u001b[0m)                 │               \u001b[38;5;34m0\u001b[0m │\n",
       "├──────────────────────────────────────┼─────────────────────────────┼─────────────────┤\n",
       "│ dense_12 (\u001b[38;5;33mDense\u001b[0m)                     │ (\u001b[38;5;45mNone\u001b[0m, \u001b[38;5;34m500\u001b[0m)                 │         \u001b[38;5;34m392,500\u001b[0m │\n",
       "├──────────────────────────────────────┼─────────────────────────────┼─────────────────┤\n",
       "│ dense_13 (\u001b[38;5;33mDense\u001b[0m)                     │ (\u001b[38;5;45mNone\u001b[0m, \u001b[38;5;34m250\u001b[0m)                 │         \u001b[38;5;34m125,250\u001b[0m │\n",
       "├──────────────────────────────────────┼─────────────────────────────┼─────────────────┤\n",
       "│ dense_14 (\u001b[38;5;33mDense\u001b[0m)                     │ (\u001b[38;5;45mNone\u001b[0m, \u001b[38;5;34m10\u001b[0m)                  │           \u001b[38;5;34m2,510\u001b[0m │\n",
       "└──────────────────────────────────────┴─────────────────────────────┴─────────────────┘\n"
      ]
     },
     "metadata": {},
     "output_type": "display_data"
    },
    {
     "data": {
      "text/html": [
       "<pre style=\"white-space:pre;overflow-x:auto;line-height:normal;font-family:Menlo,'DejaVu Sans Mono',consolas,'Courier New',monospace\"><span style=\"font-weight: bold\"> Total params: </span><span style=\"color: #00af00; text-decoration-color: #00af00\">520,260</span> (1.98 MB)\n",
       "</pre>\n"
      ],
      "text/plain": [
       "\u001b[1m Total params: \u001b[0m\u001b[38;5;34m520,260\u001b[0m (1.98 MB)\n"
      ]
     },
     "metadata": {},
     "output_type": "display_data"
    },
    {
     "data": {
      "text/html": [
       "<pre style=\"white-space:pre;overflow-x:auto;line-height:normal;font-family:Menlo,'DejaVu Sans Mono',consolas,'Courier New',monospace\"><span style=\"font-weight: bold\"> Trainable params: </span><span style=\"color: #00af00; text-decoration-color: #00af00\">520,260</span> (1.98 MB)\n",
       "</pre>\n"
      ],
      "text/plain": [
       "\u001b[1m Trainable params: \u001b[0m\u001b[38;5;34m520,260\u001b[0m (1.98 MB)\n"
      ]
     },
     "metadata": {},
     "output_type": "display_data"
    },
    {
     "data": {
      "text/html": [
       "<pre style=\"white-space:pre;overflow-x:auto;line-height:normal;font-family:Menlo,'DejaVu Sans Mono',consolas,'Courier New',monospace\"><span style=\"font-weight: bold\"> Non-trainable params: </span><span style=\"color: #00af00; text-decoration-color: #00af00\">0</span> (0.00 B)\n",
       "</pre>\n"
      ],
      "text/plain": [
       "\u001b[1m Non-trainable params: \u001b[0m\u001b[38;5;34m0\u001b[0m (0.00 B)\n"
      ]
     },
     "metadata": {},
     "output_type": "display_data"
    }
   ],
   "source": [
    "mlp_model.summary()"
   ]
  },
  {
   "cell_type": "code",
   "execution_count": 50,
   "id": "27bac9b0-de4e-4cc9-9469-98cb5c1a01c2",
   "metadata": {},
   "outputs": [],
   "source": [
    "mlp_model.compile(optimizer = \"adam\", loss = \"sparse_categorical_crossentropy\", metrics = [\"accuracy\"])"
   ]
  },
  {
   "cell_type": "code",
   "execution_count": 51,
   "id": "f211f7fe-75c7-48e1-850d-924f6b2bc50e",
   "metadata": {},
   "outputs": [
    {
     "name": "stdout",
     "output_type": "stream",
     "text": [
      "Epoch 1/20\n",
      "\u001b[1m215/215\u001b[0m \u001b[32m━━━━━━━━━━━━━━━━━━━━\u001b[0m\u001b[37m\u001b[0m \u001b[1m2s\u001b[0m 7ms/step - accuracy: 0.8475 - loss: 0.5438 - val_accuracy: 0.9560 - val_loss: 0.1464\n",
      "Epoch 2/20\n",
      "\u001b[1m215/215\u001b[0m \u001b[32m━━━━━━━━━━━━━━━━━━━━\u001b[0m\u001b[37m\u001b[0m \u001b[1m1s\u001b[0m 7ms/step - accuracy: 0.9658 - loss: 0.1130 - val_accuracy: 0.9710 - val_loss: 0.1038\n",
      "Epoch 3/20\n",
      "\u001b[1m215/215\u001b[0m \u001b[32m━━━━━━━━━━━━━━━━━━━━\u001b[0m\u001b[37m\u001b[0m \u001b[1m1s\u001b[0m 6ms/step - accuracy: 0.9812 - loss: 0.0627 - val_accuracy: 0.9720 - val_loss: 0.0909\n",
      "Epoch 4/20\n",
      "\u001b[1m215/215\u001b[0m \u001b[32m━━━━━━━━━━━━━━━━━━━━\u001b[0m\u001b[37m\u001b[0m \u001b[1m1s\u001b[0m 7ms/step - accuracy: 0.9873 - loss: 0.0433 - val_accuracy: 0.9756 - val_loss: 0.0866\n",
      "Epoch 5/20\n",
      "\u001b[1m215/215\u001b[0m \u001b[32m━━━━━━━━━━━━━━━━━━━━\u001b[0m\u001b[37m\u001b[0m \u001b[1m1s\u001b[0m 6ms/step - accuracy: 0.9916 - loss: 0.0290 - val_accuracy: 0.9768 - val_loss: 0.0819\n",
      "Epoch 6/20\n",
      "\u001b[1m215/215\u001b[0m \u001b[32m━━━━━━━━━━━━━━━━━━━━\u001b[0m\u001b[37m\u001b[0m \u001b[1m1s\u001b[0m 7ms/step - accuracy: 0.9939 - loss: 0.0209 - val_accuracy: 0.9784 - val_loss: 0.0870\n",
      "Epoch 7/20\n",
      "\u001b[1m215/215\u001b[0m \u001b[32m━━━━━━━━━━━━━━━━━━━━\u001b[0m\u001b[37m\u001b[0m \u001b[1m1s\u001b[0m 7ms/step - accuracy: 0.9962 - loss: 0.0144 - val_accuracy: 0.9796 - val_loss: 0.0801\n",
      "Epoch 8/20\n",
      "\u001b[1m215/215\u001b[0m \u001b[32m━━━━━━━━━━━━━━━━━━━━\u001b[0m\u001b[37m\u001b[0m \u001b[1m2s\u001b[0m 7ms/step - accuracy: 0.9982 - loss: 0.0086 - val_accuracy: 0.9758 - val_loss: 0.1012\n",
      "Epoch 9/20\n",
      "\u001b[1m215/215\u001b[0m \u001b[32m━━━━━━━━━━━━━━━━━━━━\u001b[0m\u001b[37m\u001b[0m \u001b[1m1s\u001b[0m 6ms/step - accuracy: 0.9975 - loss: 0.0090 - val_accuracy: 0.9766 - val_loss: 0.0967\n",
      "Epoch 10/20\n",
      "\u001b[1m215/215\u001b[0m \u001b[32m━━━━━━━━━━━━━━━━━━━━\u001b[0m\u001b[37m\u001b[0m \u001b[1m1s\u001b[0m 7ms/step - accuracy: 0.9966 - loss: 0.0103 - val_accuracy: 0.9802 - val_loss: 0.0893\n",
      "Epoch 11/20\n",
      "\u001b[1m215/215\u001b[0m \u001b[32m━━━━━━━━━━━━━━━━━━━━\u001b[0m\u001b[37m\u001b[0m \u001b[1m1s\u001b[0m 6ms/step - accuracy: 0.9985 - loss: 0.0056 - val_accuracy: 0.9768 - val_loss: 0.1049\n",
      "Epoch 12/20\n",
      "\u001b[1m215/215\u001b[0m \u001b[32m━━━━━━━━━━━━━━━━━━━━\u001b[0m\u001b[37m\u001b[0m \u001b[1m1s\u001b[0m 7ms/step - accuracy: 0.9965 - loss: 0.0093 - val_accuracy: 0.9772 - val_loss: 0.1077\n",
      "Epoch 13/20\n",
      "\u001b[1m215/215\u001b[0m \u001b[32m━━━━━━━━━━━━━━━━━━━━\u001b[0m\u001b[37m\u001b[0m \u001b[1m1s\u001b[0m 7ms/step - accuracy: 0.9955 - loss: 0.0121 - val_accuracy: 0.9788 - val_loss: 0.0970\n",
      "Epoch 14/20\n",
      "\u001b[1m215/215\u001b[0m \u001b[32m━━━━━━━━━━━━━━━━━━━━\u001b[0m\u001b[37m\u001b[0m \u001b[1m1s\u001b[0m 6ms/step - accuracy: 0.9971 - loss: 0.0084 - val_accuracy: 0.9766 - val_loss: 0.1056\n",
      "Epoch 15/20\n",
      "\u001b[1m215/215\u001b[0m \u001b[32m━━━━━━━━━━━━━━━━━━━━\u001b[0m\u001b[37m\u001b[0m \u001b[1m1s\u001b[0m 7ms/step - accuracy: 0.9966 - loss: 0.0107 - val_accuracy: 0.9802 - val_loss: 0.1054\n",
      "Epoch 16/20\n",
      "\u001b[1m215/215\u001b[0m \u001b[32m━━━━━━━━━━━━━━━━━━━━\u001b[0m\u001b[37m\u001b[0m \u001b[1m1s\u001b[0m 6ms/step - accuracy: 0.9985 - loss: 0.0048 - val_accuracy: 0.9798 - val_loss: 0.1095\n",
      "Epoch 17/20\n",
      "\u001b[1m215/215\u001b[0m \u001b[32m━━━━━━━━━━━━━━━━━━━━\u001b[0m\u001b[37m\u001b[0m \u001b[1m1s\u001b[0m 6ms/step - accuracy: 0.9993 - loss: 0.0024 - val_accuracy: 0.9806 - val_loss: 0.1033\n",
      "Epoch 18/20\n",
      "\u001b[1m215/215\u001b[0m \u001b[32m━━━━━━━━━━━━━━━━━━━━\u001b[0m\u001b[37m\u001b[0m \u001b[1m1s\u001b[0m 7ms/step - accuracy: 0.9997 - loss: 0.0013 - val_accuracy: 0.9822 - val_loss: 0.1169\n",
      "Epoch 19/20\n",
      "\u001b[1m215/215\u001b[0m \u001b[32m━━━━━━━━━━━━━━━━━━━━\u001b[0m\u001b[37m\u001b[0m \u001b[1m1s\u001b[0m 7ms/step - accuracy: 0.9996 - loss: 0.0014 - val_accuracy: 0.9818 - val_loss: 0.1108\n",
      "Epoch 20/20\n",
      "\u001b[1m215/215\u001b[0m \u001b[32m━━━━━━━━━━━━━━━━━━━━\u001b[0m\u001b[37m\u001b[0m \u001b[1m1s\u001b[0m 7ms/step - accuracy: 0.9998 - loss: 7.2963e-04 - val_accuracy: 0.9834 - val_loss: 0.1063\n"
     ]
    }
   ],
   "source": [
    "mlp_model_history = mlp_model.fit(x_train, y_train, epochs = 20, batch_size = 256, validation_data = (x_val, y_val))"
   ]
  },
  {
   "cell_type": "code",
   "execution_count": 52,
   "id": "8348162c-85aa-4f05-a675-9a4a9a74b347",
   "metadata": {},
   "outputs": [
    {
     "name": "stdout",
     "output_type": "stream",
     "text": [
      "\u001b[1m313/313\u001b[0m \u001b[32m━━━━━━━━━━━━━━━━━━━━\u001b[0m\u001b[37m\u001b[0m \u001b[1m1s\u001b[0m 2ms/step - accuracy: 0.9811 - loss: 0.0918     \n"
     ]
    },
    {
     "data": {
      "text/plain": [
       "[0.07555942237377167, 0.9840999841690063]"
      ]
     },
     "execution_count": 52,
     "metadata": {},
     "output_type": "execute_result"
    }
   ],
   "source": [
    "mlp_model.evaluate(x_test, y_test)"
   ]
  },
  {
   "cell_type": "markdown",
   "id": "598fe18f-e9f5-46c1-b0ef-e92b43a77aa1",
   "metadata": {},
   "source": [
    "### CNN Model 1 Architecture Description\n",
    "\n",
    " Below is a detailed explanation of the architecture:\n",
    "\n",
    "---\n",
    "\n",
    "#### Input Shape\n",
    "- The input shape is `(28, 28, 1)` representing 28×28 grayscale images.\n",
    "- This matches the MNIST format and prepares the data for convolutional layers.\n",
    "\n",
    "---\n",
    "\n",
    "####  Convolutional Layers (Feature Extraction)\n",
    "- The first block contains **two Conv2D layers** with:\n",
    "  - `32 filters`, `3x3` kernel size\n",
    "  - **ReLU activation** and `\"same\"` padding (to preserve spatial size)\n",
    "- These layers help extract low-level features such as edges and corners.\n",
    "\n",
    "---\n",
    "\n",
    "#### Max Pooling\n",
    "- A `MaxPooling2D` layer with `pool_size=2` reduces the spatial size (28×28 → 14×14).\n",
    "- This helps reduce computation and improves generalization.\n",
    "\n",
    "---\n",
    "\n",
    "#### Second Convolutional Block\n",
    "- Another two Conv2D layers with:\n",
    "  - `64 filters`, `3x3` kernel size\n",
    "  - `\"same\"` padding and **ReLU** activation\n",
    "- Followed by another MaxPooling2D layer which reduces the size further (14×14 → 7×7).\n",
    "- These layers extract more complex patterns, such as full digit shapes.\n",
    "\n",
    "---\n",
    "\n",
    "#### Flatten Layer\n",
    "- The output of the final pooling layer is flattened into a 1D vector (from 7×7×64 = 3136) to feed into the dense layers.\n",
    "\n",
    "---\n",
    "\n",
    "####  Dropout (Regularization)\n",
    "- `Dropout(0.5)` is used twice to randomly deactivate 50% of neurons during training.\n",
    "- This helps prevent overfitting and improves generalization.\n",
    "\n",
    "---\n",
    "\n",
    "#### Fully Connected Layers\n",
    "- Two dense (fully connected) layers:\n",
    "  - `Dense(300)` and `Dense(150)` with **ReLU activation**\n",
    "- These layers learn high-level representations from the extracted features.\n",
    "\n",
    "---\n",
    "\n",
    "#### Output Layer\n",
    "- `Dense(10, activation='softmax')` outputs probabilities for each of the 10 digit classes (0–9).\n",
    "\n",
    "---\n",
    "\n"
   ]
  },
  {
   "cell_type": "code",
   "execution_count": 74,
   "id": "5c10389b-f111-4862-adb2-e9dd76423988",
   "metadata": {},
   "outputs": [],
   "source": [
    "# Implementing CNN Model \n",
    "\n",
    "cnn_x_train = x_train.reshape(-1, 28, 28, 1)\n",
    "cnn_x_val = x_val.reshape(-1, 28, 28, 1)\n",
    "cnn_x_test = x_test.reshape(-1, 28, 28, 1)\n",
    "\n",
    "cnn_model = keras.models.Sequential([\n",
    "    keras.Input(shape = (28,28, 1)),\n",
    "    keras.layers.Conv2D(32, kernel_size = (3,3), activation = \"relu\", padding = \"same\"),\n",
    "    keras.layers.Conv2D(32, kernel_size = (3,3), activation = \"relu\", padding = \"same\"),\n",
    "    keras.layers.MaxPool2D(pool_size = 2),\n",
    "    keras.layers.Conv2D(64, kernel_size = (3,3), activation = \"relu\", padding = \"same\"),\n",
    "    keras.layers.Conv2D(64, kernel_size = (3,3), activation = \"relu\", padding = \"same\"),\n",
    "    keras.layers.MaxPool2D(pool_size = 2),\n",
    "    keras.layers.Flatten(),\n",
    "    keras.layers.Dropout(0.5),\n",
    "    keras.layers.Dense(300, activation = \"relu\"),\n",
    "    keras.layers.Dropout(0.5),\n",
    "    keras.layers.Dense(150, activation = \"relu\"),\n",
    "    keras.layers.Dense(10, activation = \"softmax\")\n",
    "    \n",
    "])"
   ]
  },
  {
   "cell_type": "code",
   "execution_count": 76,
   "id": "661ddc0d-40e0-448e-8a00-9536064a0c77",
   "metadata": {},
   "outputs": [
    {
     "data": {
      "text/html": [
       "<pre style=\"white-space:pre;overflow-x:auto;line-height:normal;font-family:Menlo,'DejaVu Sans Mono',consolas,'Courier New',monospace\"><span style=\"font-weight: bold\">Model: \"sequential_16\"</span>\n",
       "</pre>\n"
      ],
      "text/plain": [
       "\u001b[1mModel: \"sequential_16\"\u001b[0m\n"
      ]
     },
     "metadata": {},
     "output_type": "display_data"
    },
    {
     "data": {
      "text/html": [
       "<pre style=\"white-space:pre;overflow-x:auto;line-height:normal;font-family:Menlo,'DejaVu Sans Mono',consolas,'Courier New',monospace\">┏━━━━━━━━━━━━━━━━━━━━━━━━━━━━━━━━━━━━━━┳━━━━━━━━━━━━━━━━━━━━━━━━━━━━━┳━━━━━━━━━━━━━━━━━┓\n",
       "┃<span style=\"font-weight: bold\"> Layer (type)                         </span>┃<span style=\"font-weight: bold\"> Output Shape                </span>┃<span style=\"font-weight: bold\">         Param # </span>┃\n",
       "┡━━━━━━━━━━━━━━━━━━━━━━━━━━━━━━━━━━━━━━╇━━━━━━━━━━━━━━━━━━━━━━━━━━━━━╇━━━━━━━━━━━━━━━━━┩\n",
       "│ conv2d_30 (<span style=\"color: #0087ff; text-decoration-color: #0087ff\">Conv2D</span>)                   │ (<span style=\"color: #00d7ff; text-decoration-color: #00d7ff\">None</span>, <span style=\"color: #00af00; text-decoration-color: #00af00\">28</span>, <span style=\"color: #00af00; text-decoration-color: #00af00\">28</span>, <span style=\"color: #00af00; text-decoration-color: #00af00\">32</span>)          │             <span style=\"color: #00af00; text-decoration-color: #00af00\">320</span> │\n",
       "├──────────────────────────────────────┼─────────────────────────────┼─────────────────┤\n",
       "│ conv2d_31 (<span style=\"color: #0087ff; text-decoration-color: #0087ff\">Conv2D</span>)                   │ (<span style=\"color: #00d7ff; text-decoration-color: #00d7ff\">None</span>, <span style=\"color: #00af00; text-decoration-color: #00af00\">28</span>, <span style=\"color: #00af00; text-decoration-color: #00af00\">28</span>, <span style=\"color: #00af00; text-decoration-color: #00af00\">32</span>)          │           <span style=\"color: #00af00; text-decoration-color: #00af00\">9,248</span> │\n",
       "├──────────────────────────────────────┼─────────────────────────────┼─────────────────┤\n",
       "│ max_pooling2d_14 (<span style=\"color: #0087ff; text-decoration-color: #0087ff\">MaxPooling2D</span>)      │ (<span style=\"color: #00d7ff; text-decoration-color: #00d7ff\">None</span>, <span style=\"color: #00af00; text-decoration-color: #00af00\">14</span>, <span style=\"color: #00af00; text-decoration-color: #00af00\">14</span>, <span style=\"color: #00af00; text-decoration-color: #00af00\">32</span>)          │               <span style=\"color: #00af00; text-decoration-color: #00af00\">0</span> │\n",
       "├──────────────────────────────────────┼─────────────────────────────┼─────────────────┤\n",
       "│ conv2d_32 (<span style=\"color: #0087ff; text-decoration-color: #0087ff\">Conv2D</span>)                   │ (<span style=\"color: #00d7ff; text-decoration-color: #00d7ff\">None</span>, <span style=\"color: #00af00; text-decoration-color: #00af00\">14</span>, <span style=\"color: #00af00; text-decoration-color: #00af00\">14</span>, <span style=\"color: #00af00; text-decoration-color: #00af00\">64</span>)          │          <span style=\"color: #00af00; text-decoration-color: #00af00\">18,496</span> │\n",
       "├──────────────────────────────────────┼─────────────────────────────┼─────────────────┤\n",
       "│ conv2d_33 (<span style=\"color: #0087ff; text-decoration-color: #0087ff\">Conv2D</span>)                   │ (<span style=\"color: #00d7ff; text-decoration-color: #00d7ff\">None</span>, <span style=\"color: #00af00; text-decoration-color: #00af00\">14</span>, <span style=\"color: #00af00; text-decoration-color: #00af00\">14</span>, <span style=\"color: #00af00; text-decoration-color: #00af00\">64</span>)          │          <span style=\"color: #00af00; text-decoration-color: #00af00\">36,928</span> │\n",
       "├──────────────────────────────────────┼─────────────────────────────┼─────────────────┤\n",
       "│ max_pooling2d_15 (<span style=\"color: #0087ff; text-decoration-color: #0087ff\">MaxPooling2D</span>)      │ (<span style=\"color: #00d7ff; text-decoration-color: #00d7ff\">None</span>, <span style=\"color: #00af00; text-decoration-color: #00af00\">7</span>, <span style=\"color: #00af00; text-decoration-color: #00af00\">7</span>, <span style=\"color: #00af00; text-decoration-color: #00af00\">64</span>)            │               <span style=\"color: #00af00; text-decoration-color: #00af00\">0</span> │\n",
       "├──────────────────────────────────────┼─────────────────────────────┼─────────────────┤\n",
       "│ flatten_9 (<span style=\"color: #0087ff; text-decoration-color: #0087ff\">Flatten</span>)                  │ (<span style=\"color: #00d7ff; text-decoration-color: #00d7ff\">None</span>, <span style=\"color: #00af00; text-decoration-color: #00af00\">3136</span>)                │               <span style=\"color: #00af00; text-decoration-color: #00af00\">0</span> │\n",
       "├──────────────────────────────────────┼─────────────────────────────┼─────────────────┤\n",
       "│ dropout_4 (<span style=\"color: #0087ff; text-decoration-color: #0087ff\">Dropout</span>)                  │ (<span style=\"color: #00d7ff; text-decoration-color: #00d7ff\">None</span>, <span style=\"color: #00af00; text-decoration-color: #00af00\">3136</span>)                │               <span style=\"color: #00af00; text-decoration-color: #00af00\">0</span> │\n",
       "├──────────────────────────────────────┼─────────────────────────────┼─────────────────┤\n",
       "│ dense_20 (<span style=\"color: #0087ff; text-decoration-color: #0087ff\">Dense</span>)                     │ (<span style=\"color: #00d7ff; text-decoration-color: #00d7ff\">None</span>, <span style=\"color: #00af00; text-decoration-color: #00af00\">300</span>)                 │         <span style=\"color: #00af00; text-decoration-color: #00af00\">941,100</span> │\n",
       "├──────────────────────────────────────┼─────────────────────────────┼─────────────────┤\n",
       "│ dropout_5 (<span style=\"color: #0087ff; text-decoration-color: #0087ff\">Dropout</span>)                  │ (<span style=\"color: #00d7ff; text-decoration-color: #00d7ff\">None</span>, <span style=\"color: #00af00; text-decoration-color: #00af00\">300</span>)                 │               <span style=\"color: #00af00; text-decoration-color: #00af00\">0</span> │\n",
       "├──────────────────────────────────────┼─────────────────────────────┼─────────────────┤\n",
       "│ dense_21 (<span style=\"color: #0087ff; text-decoration-color: #0087ff\">Dense</span>)                     │ (<span style=\"color: #00d7ff; text-decoration-color: #00d7ff\">None</span>, <span style=\"color: #00af00; text-decoration-color: #00af00\">150</span>)                 │          <span style=\"color: #00af00; text-decoration-color: #00af00\">45,150</span> │\n",
       "├──────────────────────────────────────┼─────────────────────────────┼─────────────────┤\n",
       "│ dense_22 (<span style=\"color: #0087ff; text-decoration-color: #0087ff\">Dense</span>)                     │ (<span style=\"color: #00d7ff; text-decoration-color: #00d7ff\">None</span>, <span style=\"color: #00af00; text-decoration-color: #00af00\">10</span>)                  │           <span style=\"color: #00af00; text-decoration-color: #00af00\">1,510</span> │\n",
       "└──────────────────────────────────────┴─────────────────────────────┴─────────────────┘\n",
       "</pre>\n"
      ],
      "text/plain": [
       "┏━━━━━━━━━━━━━━━━━━━━━━━━━━━━━━━━━━━━━━┳━━━━━━━━━━━━━━━━━━━━━━━━━━━━━┳━━━━━━━━━━━━━━━━━┓\n",
       "┃\u001b[1m \u001b[0m\u001b[1mLayer (type)                        \u001b[0m\u001b[1m \u001b[0m┃\u001b[1m \u001b[0m\u001b[1mOutput Shape               \u001b[0m\u001b[1m \u001b[0m┃\u001b[1m \u001b[0m\u001b[1m        Param #\u001b[0m\u001b[1m \u001b[0m┃\n",
       "┡━━━━━━━━━━━━━━━━━━━━━━━━━━━━━━━━━━━━━━╇━━━━━━━━━━━━━━━━━━━━━━━━━━━━━╇━━━━━━━━━━━━━━━━━┩\n",
       "│ conv2d_30 (\u001b[38;5;33mConv2D\u001b[0m)                   │ (\u001b[38;5;45mNone\u001b[0m, \u001b[38;5;34m28\u001b[0m, \u001b[38;5;34m28\u001b[0m, \u001b[38;5;34m32\u001b[0m)          │             \u001b[38;5;34m320\u001b[0m │\n",
       "├──────────────────────────────────────┼─────────────────────────────┼─────────────────┤\n",
       "│ conv2d_31 (\u001b[38;5;33mConv2D\u001b[0m)                   │ (\u001b[38;5;45mNone\u001b[0m, \u001b[38;5;34m28\u001b[0m, \u001b[38;5;34m28\u001b[0m, \u001b[38;5;34m32\u001b[0m)          │           \u001b[38;5;34m9,248\u001b[0m │\n",
       "├──────────────────────────────────────┼─────────────────────────────┼─────────────────┤\n",
       "│ max_pooling2d_14 (\u001b[38;5;33mMaxPooling2D\u001b[0m)      │ (\u001b[38;5;45mNone\u001b[0m, \u001b[38;5;34m14\u001b[0m, \u001b[38;5;34m14\u001b[0m, \u001b[38;5;34m32\u001b[0m)          │               \u001b[38;5;34m0\u001b[0m │\n",
       "├──────────────────────────────────────┼─────────────────────────────┼─────────────────┤\n",
       "│ conv2d_32 (\u001b[38;5;33mConv2D\u001b[0m)                   │ (\u001b[38;5;45mNone\u001b[0m, \u001b[38;5;34m14\u001b[0m, \u001b[38;5;34m14\u001b[0m, \u001b[38;5;34m64\u001b[0m)          │          \u001b[38;5;34m18,496\u001b[0m │\n",
       "├──────────────────────────────────────┼─────────────────────────────┼─────────────────┤\n",
       "│ conv2d_33 (\u001b[38;5;33mConv2D\u001b[0m)                   │ (\u001b[38;5;45mNone\u001b[0m, \u001b[38;5;34m14\u001b[0m, \u001b[38;5;34m14\u001b[0m, \u001b[38;5;34m64\u001b[0m)          │          \u001b[38;5;34m36,928\u001b[0m │\n",
       "├──────────────────────────────────────┼─────────────────────────────┼─────────────────┤\n",
       "│ max_pooling2d_15 (\u001b[38;5;33mMaxPooling2D\u001b[0m)      │ (\u001b[38;5;45mNone\u001b[0m, \u001b[38;5;34m7\u001b[0m, \u001b[38;5;34m7\u001b[0m, \u001b[38;5;34m64\u001b[0m)            │               \u001b[38;5;34m0\u001b[0m │\n",
       "├──────────────────────────────────────┼─────────────────────────────┼─────────────────┤\n",
       "│ flatten_9 (\u001b[38;5;33mFlatten\u001b[0m)                  │ (\u001b[38;5;45mNone\u001b[0m, \u001b[38;5;34m3136\u001b[0m)                │               \u001b[38;5;34m0\u001b[0m │\n",
       "├──────────────────────────────────────┼─────────────────────────────┼─────────────────┤\n",
       "│ dropout_4 (\u001b[38;5;33mDropout\u001b[0m)                  │ (\u001b[38;5;45mNone\u001b[0m, \u001b[38;5;34m3136\u001b[0m)                │               \u001b[38;5;34m0\u001b[0m │\n",
       "├──────────────────────────────────────┼─────────────────────────────┼─────────────────┤\n",
       "│ dense_20 (\u001b[38;5;33mDense\u001b[0m)                     │ (\u001b[38;5;45mNone\u001b[0m, \u001b[38;5;34m300\u001b[0m)                 │         \u001b[38;5;34m941,100\u001b[0m │\n",
       "├──────────────────────────────────────┼─────────────────────────────┼─────────────────┤\n",
       "│ dropout_5 (\u001b[38;5;33mDropout\u001b[0m)                  │ (\u001b[38;5;45mNone\u001b[0m, \u001b[38;5;34m300\u001b[0m)                 │               \u001b[38;5;34m0\u001b[0m │\n",
       "├──────────────────────────────────────┼─────────────────────────────┼─────────────────┤\n",
       "│ dense_21 (\u001b[38;5;33mDense\u001b[0m)                     │ (\u001b[38;5;45mNone\u001b[0m, \u001b[38;5;34m150\u001b[0m)                 │          \u001b[38;5;34m45,150\u001b[0m │\n",
       "├──────────────────────────────────────┼─────────────────────────────┼─────────────────┤\n",
       "│ dense_22 (\u001b[38;5;33mDense\u001b[0m)                     │ (\u001b[38;5;45mNone\u001b[0m, \u001b[38;5;34m10\u001b[0m)                  │           \u001b[38;5;34m1,510\u001b[0m │\n",
       "└──────────────────────────────────────┴─────────────────────────────┴─────────────────┘\n"
      ]
     },
     "metadata": {},
     "output_type": "display_data"
    },
    {
     "data": {
      "text/html": [
       "<pre style=\"white-space:pre;overflow-x:auto;line-height:normal;font-family:Menlo,'DejaVu Sans Mono',consolas,'Courier New',monospace\"><span style=\"font-weight: bold\"> Total params: </span><span style=\"color: #00af00; text-decoration-color: #00af00\">1,052,752</span> (4.02 MB)\n",
       "</pre>\n"
      ],
      "text/plain": [
       "\u001b[1m Total params: \u001b[0m\u001b[38;5;34m1,052,752\u001b[0m (4.02 MB)\n"
      ]
     },
     "metadata": {},
     "output_type": "display_data"
    },
    {
     "data": {
      "text/html": [
       "<pre style=\"white-space:pre;overflow-x:auto;line-height:normal;font-family:Menlo,'DejaVu Sans Mono',consolas,'Courier New',monospace\"><span style=\"font-weight: bold\"> Trainable params: </span><span style=\"color: #00af00; text-decoration-color: #00af00\">1,052,752</span> (4.02 MB)\n",
       "</pre>\n"
      ],
      "text/plain": [
       "\u001b[1m Trainable params: \u001b[0m\u001b[38;5;34m1,052,752\u001b[0m (4.02 MB)\n"
      ]
     },
     "metadata": {},
     "output_type": "display_data"
    },
    {
     "data": {
      "text/html": [
       "<pre style=\"white-space:pre;overflow-x:auto;line-height:normal;font-family:Menlo,'DejaVu Sans Mono',consolas,'Courier New',monospace\"><span style=\"font-weight: bold\"> Non-trainable params: </span><span style=\"color: #00af00; text-decoration-color: #00af00\">0</span> (0.00 B)\n",
       "</pre>\n"
      ],
      "text/plain": [
       "\u001b[1m Non-trainable params: \u001b[0m\u001b[38;5;34m0\u001b[0m (0.00 B)\n"
      ]
     },
     "metadata": {},
     "output_type": "display_data"
    }
   ],
   "source": [
    "cnn_model.summary()"
   ]
  },
  {
   "cell_type": "code",
   "execution_count": 78,
   "id": "3c7f1a4b-88d5-4b89-a327-091a761b5f73",
   "metadata": {},
   "outputs": [],
   "source": [
    "cnn_model.compile(optimizer = \"adam\", loss = \"sparse_categorical_crossentropy\", metrics = [\"accuracy\"])"
   ]
  },
  {
   "cell_type": "code",
   "execution_count": 79,
   "id": "1d19ffb7-c1e4-4c07-91df-56e69130ef23",
   "metadata": {},
   "outputs": [
    {
     "name": "stdout",
     "output_type": "stream",
     "text": [
      "Epoch 1/15\n",
      "\u001b[1m860/860\u001b[0m \u001b[32m━━━━━━━━━━━━━━━━━━━━\u001b[0m\u001b[37m\u001b[0m \u001b[1m61s\u001b[0m 65ms/step - accuracy: 0.8387 - loss: 0.4816 - val_accuracy: 0.9802 - val_loss: 0.0666\n",
      "Epoch 2/15\n",
      "\u001b[1m860/860\u001b[0m \u001b[32m━━━━━━━━━━━━━━━━━━━━\u001b[0m\u001b[37m\u001b[0m \u001b[1m55s\u001b[0m 64ms/step - accuracy: 0.9772 - loss: 0.0788 - val_accuracy: 0.9882 - val_loss: 0.0454\n",
      "Epoch 3/15\n",
      "\u001b[1m860/860\u001b[0m \u001b[32m━━━━━━━━━━━━━━━━━━━━\u001b[0m\u001b[37m\u001b[0m \u001b[1m56s\u001b[0m 65ms/step - accuracy: 0.9819 - loss: 0.0586 - val_accuracy: 0.9888 - val_loss: 0.0358\n",
      "Epoch 4/15\n",
      "\u001b[1m860/860\u001b[0m \u001b[32m━━━━━━━━━━━━━━━━━━━━\u001b[0m\u001b[37m\u001b[0m \u001b[1m55s\u001b[0m 64ms/step - accuracy: 0.9859 - loss: 0.0466 - val_accuracy: 0.9856 - val_loss: 0.0493\n",
      "Epoch 5/15\n",
      "\u001b[1m860/860\u001b[0m \u001b[32m━━━━━━━━━━━━━━━━━━━━\u001b[0m\u001b[37m\u001b[0m \u001b[1m55s\u001b[0m 64ms/step - accuracy: 0.9871 - loss: 0.0424 - val_accuracy: 0.9882 - val_loss: 0.0398\n",
      "Epoch 6/15\n",
      "\u001b[1m860/860\u001b[0m \u001b[32m━━━━━━━━━━━━━━━━━━━━\u001b[0m\u001b[37m\u001b[0m \u001b[1m57s\u001b[0m 66ms/step - accuracy: 0.9877 - loss: 0.0412 - val_accuracy: 0.9908 - val_loss: 0.0381\n",
      "Epoch 7/15\n",
      "\u001b[1m860/860\u001b[0m \u001b[32m━━━━━━━━━━━━━━━━━━━━\u001b[0m\u001b[37m\u001b[0m \u001b[1m57s\u001b[0m 66ms/step - accuracy: 0.9899 - loss: 0.0320 - val_accuracy: 0.9916 - val_loss: 0.0345\n",
      "Epoch 8/15\n",
      "\u001b[1m860/860\u001b[0m \u001b[32m━━━━━━━━━━━━━━━━━━━━\u001b[0m\u001b[37m\u001b[0m \u001b[1m59s\u001b[0m 68ms/step - accuracy: 0.9901 - loss: 0.0317 - val_accuracy: 0.9924 - val_loss: 0.0306\n",
      "Epoch 9/15\n",
      "\u001b[1m860/860\u001b[0m \u001b[32m━━━━━━━━━━━━━━━━━━━━\u001b[0m\u001b[37m\u001b[0m \u001b[1m57s\u001b[0m 66ms/step - accuracy: 0.9909 - loss: 0.0285 - val_accuracy: 0.9916 - val_loss: 0.0402\n",
      "Epoch 10/15\n",
      "\u001b[1m860/860\u001b[0m \u001b[32m━━━━━━━━━━━━━━━━━━━━\u001b[0m\u001b[37m\u001b[0m \u001b[1m56s\u001b[0m 65ms/step - accuracy: 0.9919 - loss: 0.0272 - val_accuracy: 0.9920 - val_loss: 0.0306\n",
      "Epoch 11/15\n",
      "\u001b[1m860/860\u001b[0m \u001b[32m━━━━━━━━━━━━━━━━━━━━\u001b[0m\u001b[37m\u001b[0m \u001b[1m57s\u001b[0m 66ms/step - accuracy: 0.9928 - loss: 0.0247 - val_accuracy: 0.9934 - val_loss: 0.0303\n",
      "Epoch 12/15\n",
      "\u001b[1m860/860\u001b[0m \u001b[32m━━━━━━━━━━━━━━━━━━━━\u001b[0m\u001b[37m\u001b[0m \u001b[1m57s\u001b[0m 66ms/step - accuracy: 0.9927 - loss: 0.0235 - val_accuracy: 0.9914 - val_loss: 0.0347\n",
      "Epoch 13/15\n",
      "\u001b[1m860/860\u001b[0m \u001b[32m━━━━━━━━━━━━━━━━━━━━\u001b[0m\u001b[37m\u001b[0m \u001b[1m57s\u001b[0m 66ms/step - accuracy: 0.9929 - loss: 0.0224 - val_accuracy: 0.9934 - val_loss: 0.0304\n",
      "Epoch 14/15\n",
      "\u001b[1m860/860\u001b[0m \u001b[32m━━━━━━━━━━━━━━━━━━━━\u001b[0m\u001b[37m\u001b[0m \u001b[1m58s\u001b[0m 67ms/step - accuracy: 0.9940 - loss: 0.0184 - val_accuracy: 0.9936 - val_loss: 0.0319\n",
      "Epoch 15/15\n",
      "\u001b[1m860/860\u001b[0m \u001b[32m━━━━━━━━━━━━━━━━━━━━\u001b[0m\u001b[37m\u001b[0m \u001b[1m57s\u001b[0m 66ms/step - accuracy: 0.9941 - loss: 0.0182 - val_accuracy: 0.9940 - val_loss: 0.0283\n"
     ]
    }
   ],
   "source": [
    "cnn_history = cnn_model.fit(x_train, y_train, epochs = 15, batch_size = 64, validation_data=(x_val, y_val))"
   ]
  },
  {
   "cell_type": "code",
   "execution_count": 81,
   "id": "f23a2c75-05cc-4d31-b992-dbbec4b498ce",
   "metadata": {},
   "outputs": [
    {
     "name": "stdout",
     "output_type": "stream",
     "text": [
      "\u001b[1m313/313\u001b[0m \u001b[32m━━━━━━━━━━━━━━━━━━━━\u001b[0m\u001b[37m\u001b[0m \u001b[1m3s\u001b[0m 9ms/step - accuracy: 0.9946 - loss: 0.0193 \n"
     ]
    },
    {
     "data": {
      "text/plain": [
       "[0.01602880470454693, 0.9955999851226807]"
      ]
     },
     "execution_count": 81,
     "metadata": {},
     "output_type": "execute_result"
    }
   ],
   "source": [
    "cnn_model.evaluate(x_test, y_test)"
   ]
  },
  {
   "cell_type": "markdown",
   "id": "002e20e0-cb33-498b-9c96-717749669767",
   "metadata": {},
   "source": [
    "### CNN Model 1 Architecture Description\n",
    "\n",
    " Below is a detailed explanation of the architecture:\n",
    "\n",
    "---\n",
    "\n",
    "#### Input Shape\n",
    "- The input shape is `(28, 28, 1)` representing 28×28 grayscale images.\n",
    "- This matches the MNIST format and prepares the data for convolutional layers.\n",
    "\n",
    "---\n",
    "\n",
    "####  Convolutional Layers (Feature Extraction)\n",
    "- The first block contains **two Conv2D layers** with:\n",
    "  - `32 filters`, `3x3` kernel size\n",
    "  - **ReLU activation** and `\"same\"` padding (to preserve spatial size)\n",
    "- These layers help extract low-level features such as edges and corners.\n",
    "\n",
    "---\n",
    "\n",
    "#### Max Pooling\n",
    "- A `MaxPooling2D` layer with `pool_size=2` reduces the spatial size (28×28 → 14×14).\n",
    "- This helps reduce computation and improves generalization.\n",
    "\n",
    "---\n",
    "\n",
    "#### Second Convolutional Block\n",
    "- Another two Conv2D layers with:\n",
    "  - `64 filters`, `3x3` kernel size\n",
    "  - `\"same\"` padding and **ReLU** activation\n",
    "- Followed by another MaxPooling2D layer which reduces the size further (14×14 → 7×7).\n",
    "- These layers extract more complex patterns, such as full digit shapes.\n",
    "\n",
    "---\n",
    "\n",
    "#### Flatten Layer\n",
    "- The output of the final pooling layer is flattened into a 1D vector (from 7×7×64 = 3136) to feed into the dense layers.\n",
    "\n",
    "---\n",
    "\n",
    "####  Dropout (Regularization)\n",
    "- `Dropout(0.5)` is used twice to randomly deactivate 50% of neurons during training.\n",
    "- This helps prevent overfitting and improves generalization.\n",
    "\n",
    "---\n",
    "\n",
    "#### Fully Connected Layers\n",
    "- Two dense (fully connected) layers:\n",
    "  - `Dense(300)` and `Dense(150)` with **ReLU activation**\n",
    "- These layers learn high-level representations from the extracted features.\n",
    "\n",
    "---\n",
    "\n",
    "#### Output Layer\n",
    "- `Dense(10, activation='softmax')` outputs probabilities for each of the 10 digit classes (0–9).\n",
    "\n",
    "---\n",
    "\n"
   ]
  },
  {
   "cell_type": "code",
   "execution_count": 101,
   "id": "25cad9bc-2cca-4b89-8753-6ed79b3131f6",
   "metadata": {},
   "outputs": [
    {
     "name": "stdout",
     "output_type": "stream",
     "text": [
      "Epoch 1/30\n",
      "\u001b[1m860/860\u001b[0m \u001b[32m━━━━━━━━━━━━━━━━━━━━\u001b[0m\u001b[37m\u001b[0m \u001b[1m75s\u001b[0m 83ms/step - accuracy: 0.8065 - loss: 0.6239 - val_accuracy: 0.9808 - val_loss: 0.0751 - learning_rate: 0.0010\n",
      "Epoch 2/30\n",
      "\u001b[1m860/860\u001b[0m \u001b[32m━━━━━━━━━━━━━━━━━━━━\u001b[0m\u001b[37m\u001b[0m \u001b[1m71s\u001b[0m 82ms/step - accuracy: 0.9706 - loss: 0.1025 - val_accuracy: 0.9844 - val_loss: 0.0600 - learning_rate: 0.0010\n",
      "Epoch 3/30\n",
      "\u001b[1m860/860\u001b[0m \u001b[32m━━━━━━━━━━━━━━━━━━━━\u001b[0m\u001b[37m\u001b[0m \u001b[1m73s\u001b[0m 85ms/step - accuracy: 0.9781 - loss: 0.0741 - val_accuracy: 0.9864 - val_loss: 0.0483 - learning_rate: 0.0010\n",
      "Epoch 4/30\n",
      "\u001b[1m860/860\u001b[0m \u001b[32m━━━━━━━━━━━━━━━━━━━━\u001b[0m\u001b[37m\u001b[0m \u001b[1m74s\u001b[0m 86ms/step - accuracy: 0.9823 - loss: 0.0605 - val_accuracy: 0.9856 - val_loss: 0.0622 - learning_rate: 0.0010\n",
      "Epoch 5/30\n",
      "\u001b[1m860/860\u001b[0m \u001b[32m━━━━━━━━━━━━━━━━━━━━\u001b[0m\u001b[37m\u001b[0m \u001b[1m75s\u001b[0m 88ms/step - accuracy: 0.9857 - loss: 0.0490 - val_accuracy: 0.9894 - val_loss: 0.0446 - learning_rate: 0.0010\n",
      "Epoch 6/30\n",
      "\u001b[1m860/860\u001b[0m \u001b[32m━━━━━━━━━━━━━━━━━━━━\u001b[0m\u001b[37m\u001b[0m \u001b[1m72s\u001b[0m 84ms/step - accuracy: 0.9872 - loss: 0.0455 - val_accuracy: 0.9868 - val_loss: 0.0489 - learning_rate: 0.0010\n",
      "Epoch 7/30\n",
      "\u001b[1m860/860\u001b[0m \u001b[32m━━━━━━━━━━━━━━━━━━━━\u001b[0m\u001b[37m\u001b[0m \u001b[1m74s\u001b[0m 86ms/step - accuracy: 0.9894 - loss: 0.0393 - val_accuracy: 0.9904 - val_loss: 0.0356 - learning_rate: 0.0010\n",
      "Epoch 8/30\n",
      "\u001b[1m860/860\u001b[0m \u001b[32m━━━━━━━━━━━━━━━━━━━━\u001b[0m\u001b[37m\u001b[0m \u001b[1m74s\u001b[0m 86ms/step - accuracy: 0.9889 - loss: 0.0399 - val_accuracy: 0.9898 - val_loss: 0.0381 - learning_rate: 0.0010\n",
      "Epoch 9/30\n",
      "\u001b[1m860/860\u001b[0m \u001b[32m━━━━━━━━━━━━━━━━━━━━\u001b[0m\u001b[37m\u001b[0m \u001b[1m76s\u001b[0m 88ms/step - accuracy: 0.9894 - loss: 0.0378 - val_accuracy: 0.9894 - val_loss: 0.0421 - learning_rate: 0.0010\n",
      "Epoch 10/30\n",
      "\u001b[1m860/860\u001b[0m \u001b[32m━━━━━━━━━━━━━━━━━━━━\u001b[0m\u001b[37m\u001b[0m \u001b[1m75s\u001b[0m 87ms/step - accuracy: 0.9901 - loss: 0.0314 - val_accuracy: 0.9864 - val_loss: 0.0583 - learning_rate: 0.0010\n",
      "Epoch 11/30\n",
      "\u001b[1m860/860\u001b[0m \u001b[32m━━━━━━━━━━━━━━━━━━━━\u001b[0m\u001b[37m\u001b[0m \u001b[1m72s\u001b[0m 83ms/step - accuracy: 0.9930 - loss: 0.0247 - val_accuracy: 0.9930 - val_loss: 0.0292 - learning_rate: 5.0000e-04\n",
      "Epoch 12/30\n",
      "\u001b[1m860/860\u001b[0m \u001b[32m━━━━━━━━━━━━━━━━━━━━\u001b[0m\u001b[37m\u001b[0m \u001b[1m72s\u001b[0m 84ms/step - accuracy: 0.9937 - loss: 0.0193 - val_accuracy: 0.9924 - val_loss: 0.0286 - learning_rate: 5.0000e-04\n",
      "Epoch 13/30\n",
      "\u001b[1m860/860\u001b[0m \u001b[32m━━━━━━━━━━━━━━━━━━━━\u001b[0m\u001b[37m\u001b[0m \u001b[1m72s\u001b[0m 84ms/step - accuracy: 0.9948 - loss: 0.0175 - val_accuracy: 0.9920 - val_loss: 0.0303 - learning_rate: 5.0000e-04\n",
      "Epoch 14/30\n",
      "\u001b[1m860/860\u001b[0m \u001b[32m━━━━━━━━━━━━━━━━━━━━\u001b[0m\u001b[37m\u001b[0m \u001b[1m73s\u001b[0m 85ms/step - accuracy: 0.9957 - loss: 0.0153 - val_accuracy: 0.9920 - val_loss: 0.0341 - learning_rate: 5.0000e-04\n",
      "Epoch 15/30\n",
      "\u001b[1m860/860\u001b[0m \u001b[32m━━━━━━━━━━━━━━━━━━━━\u001b[0m\u001b[37m\u001b[0m \u001b[1m74s\u001b[0m 86ms/step - accuracy: 0.9950 - loss: 0.0166 - val_accuracy: 0.9948 - val_loss: 0.0232 - learning_rate: 5.0000e-04\n",
      "Epoch 16/30\n",
      "\u001b[1m860/860\u001b[0m \u001b[32m━━━━━━━━━━━━━━━━━━━━\u001b[0m\u001b[37m\u001b[0m \u001b[1m74s\u001b[0m 86ms/step - accuracy: 0.9963 - loss: 0.0122 - val_accuracy: 0.9946 - val_loss: 0.0297 - learning_rate: 5.0000e-04\n",
      "Epoch 17/30\n",
      "\u001b[1m860/860\u001b[0m \u001b[32m━━━━━━━━━━━━━━━━━━━━\u001b[0m\u001b[37m\u001b[0m \u001b[1m73s\u001b[0m 85ms/step - accuracy: 0.9959 - loss: 0.0133 - val_accuracy: 0.9918 - val_loss: 0.0363 - learning_rate: 5.0000e-04\n",
      "Epoch 18/30\n",
      "\u001b[1m860/860\u001b[0m \u001b[32m━━━━━━━━━━━━━━━━━━━━\u001b[0m\u001b[37m\u001b[0m \u001b[1m73s\u001b[0m 85ms/step - accuracy: 0.9950 - loss: 0.0152 - val_accuracy: 0.9940 - val_loss: 0.0260 - learning_rate: 5.0000e-04\n",
      "Epoch 19/30\n",
      "\u001b[1m860/860\u001b[0m \u001b[32m━━━━━━━━━━━━━━━━━━━━\u001b[0m\u001b[37m\u001b[0m \u001b[1m73s\u001b[0m 85ms/step - accuracy: 0.9965 - loss: 0.0111 - val_accuracy: 0.9950 - val_loss: 0.0227 - learning_rate: 2.5000e-04\n",
      "Epoch 20/30\n",
      "\u001b[1m860/860\u001b[0m \u001b[32m━━━━━━━━━━━━━━━━━━━━\u001b[0m\u001b[37m\u001b[0m \u001b[1m72s\u001b[0m 83ms/step - accuracy: 0.9980 - loss: 0.0069 - val_accuracy: 0.9954 - val_loss: 0.0227 - learning_rate: 2.5000e-04\n",
      "Epoch 21/30\n",
      "\u001b[1m860/860\u001b[0m \u001b[32m━━━━━━━━━━━━━━━━━━━━\u001b[0m\u001b[37m\u001b[0m \u001b[1m72s\u001b[0m 84ms/step - accuracy: 0.9979 - loss: 0.0070 - val_accuracy: 0.9954 - val_loss: 0.0248 - learning_rate: 2.5000e-04\n",
      "Epoch 22/30\n",
      "\u001b[1m860/860\u001b[0m \u001b[32m━━━━━━━━━━━━━━━━━━━━\u001b[0m\u001b[37m\u001b[0m \u001b[1m72s\u001b[0m 84ms/step - accuracy: 0.9978 - loss: 0.0075 - val_accuracy: 0.9958 - val_loss: 0.0243 - learning_rate: 2.5000e-04\n",
      "Epoch 23/30\n",
      "\u001b[1m860/860\u001b[0m \u001b[32m━━━━━━━━━━━━━━━━━━━━\u001b[0m\u001b[37m\u001b[0m \u001b[1m72s\u001b[0m 84ms/step - accuracy: 0.9983 - loss: 0.0055 - val_accuracy: 0.9964 - val_loss: 0.0202 - learning_rate: 1.2500e-04\n",
      "Epoch 24/30\n",
      "\u001b[1m860/860\u001b[0m \u001b[32m━━━━━━━━━━━━━━━━━━━━\u001b[0m\u001b[37m\u001b[0m \u001b[1m78s\u001b[0m 90ms/step - accuracy: 0.9983 - loss: 0.0056 - val_accuracy: 0.9956 - val_loss: 0.0253 - learning_rate: 1.2500e-04\n",
      "Epoch 25/30\n",
      "\u001b[1m860/860\u001b[0m \u001b[32m━━━━━━━━━━━━━━━━━━━━\u001b[0m\u001b[37m\u001b[0m \u001b[1m74s\u001b[0m 86ms/step - accuracy: 0.9991 - loss: 0.0036 - val_accuracy: 0.9964 - val_loss: 0.0226 - learning_rate: 1.2500e-04\n",
      "Epoch 26/30\n",
      "\u001b[1m860/860\u001b[0m \u001b[32m━━━━━━━━━━━━━━━━━━━━\u001b[0m\u001b[37m\u001b[0m \u001b[1m74s\u001b[0m 86ms/step - accuracy: 0.9990 - loss: 0.0039 - val_accuracy: 0.9958 - val_loss: 0.0249 - learning_rate: 1.2500e-04\n",
      "Epoch 27/30\n",
      "\u001b[1m860/860\u001b[0m \u001b[32m━━━━━━━━━━━━━━━━━━━━\u001b[0m\u001b[37m\u001b[0m \u001b[1m74s\u001b[0m 86ms/step - accuracy: 0.9991 - loss: 0.0035 - val_accuracy: 0.9958 - val_loss: 0.0248 - learning_rate: 6.2500e-05\n",
      "Epoch 28/30\n",
      "\u001b[1m860/860\u001b[0m \u001b[32m━━━━━━━━━━━━━━━━━━━━\u001b[0m\u001b[37m\u001b[0m \u001b[1m75s\u001b[0m 87ms/step - accuracy: 0.9990 - loss: 0.0031 - val_accuracy: 0.9960 - val_loss: 0.0237 - learning_rate: 6.2500e-05\n"
     ]
    }
   ],
   "source": [
    "from keras import layers, models, callbacks\n",
    "\n",
    "model = models.Sequential([\n",
    "    keras.Input(shape=(28,28,1)),\n",
    "\n",
    "    layers.Conv2D(32, (3,3), padding=\"same\"),\n",
    "    layers.BatchNormalization(),\n",
    "    layers.Activation(\"relu\"),\n",
    "    \n",
    "    layers.Conv2D(32, (3,3), padding=\"same\"),\n",
    "    layers.BatchNormalization(),\n",
    "    layers.Activation(\"relu\"),\n",
    "\n",
    "    layers.Conv2D(32, (3,3), padding=\"same\"),\n",
    "    layers.BatchNormalization(),\n",
    "    layers.Activation(\"relu\"),\n",
    "\n",
    "\n",
    "    layers.MaxPool2D(pool_size=2),\n",
    "\n",
    "    layers.Conv2D(64, (3,3), padding=\"same\"),\n",
    "    layers.BatchNormalization(),\n",
    "    layers.Activation(\"relu\"),\n",
    "\n",
    "    layers.Conv2D(64, (3,3), padding=\"same\"),\n",
    "    layers.BatchNormalization(),\n",
    "    layers.Activation(\"relu\"),\n",
    "\n",
    "    layers.Conv2D(64, (3,3), padding=\"same\"),\n",
    "    layers.BatchNormalization(),\n",
    "    layers.Activation(\"relu\"),\n",
    "\n",
    "    layers.MaxPool2D(pool_size=2),\n",
    "\n",
    "    layers.Flatten(),\n",
    "    layers.Dropout(0.5),\n",
    "    layers.Dense(300, activation=\"relu\"),\n",
    "    layers.Dropout(0.5),\n",
    "    layers.Dense(150, activation=\"relu\"),\n",
    "    layers.Dense(10, activation=\"softmax\")\n",
    "])\n",
    "\n",
    "model.compile(optimizer=\"adam\", loss=\"sparse_categorical_crossentropy\", metrics=[\"accuracy\"])\n",
    "\n",
    "# Callbacks\n",
    "lr_scheduler = callbacks.ReduceLROnPlateau(monitor='val_loss', factor=0.5, patience=3, min_lr=1e-6)\n",
    "early_stopper = callbacks.EarlyStopping(monitor='val_loss', patience=5, restore_best_weights=True)\n",
    "\n",
    "# Fit\n",
    "history = model.fit(x_train, y_train,\n",
    "                    validation_data = (x_val, y_val),\n",
    "                    epochs=30,\n",
    "                    batch_size=64,\n",
    "                    callbacks=[lr_scheduler, early_stopper])\n"
   ]
  },
  {
   "cell_type": "code",
   "execution_count": 102,
   "id": "2623a456-ad36-4494-89ac-1c9d9f8e2375",
   "metadata": {},
   "outputs": [
    {
     "name": "stdout",
     "output_type": "stream",
     "text": [
      "\u001b[1m313/313\u001b[0m \u001b[32m━━━━━━━━━━━━━━━━━━━━\u001b[0m\u001b[37m\u001b[0m \u001b[1m4s\u001b[0m 14ms/step - accuracy: 0.9957 - loss: 0.0153\n"
     ]
    },
    {
     "data": {
      "text/plain": [
       "[0.013720777817070484, 0.9962000250816345]"
      ]
     },
     "execution_count": 102,
     "metadata": {},
     "output_type": "execute_result"
    }
   ],
   "source": [
    "model.evaluate(x_test, y_test)"
   ]
  },
  {
   "cell_type": "code",
   "execution_count": 106,
   "id": "56dce182-5b75-42c2-aee5-3dac04aadded",
   "metadata": {},
   "outputs": [
    {
     "name": "stdout",
     "output_type": "stream",
     "text": [
      "Epoch 1/23\n",
      "\u001b[1m938/938\u001b[0m \u001b[32m━━━━━━━━━━━━━━━━━━━━\u001b[0m\u001b[37m\u001b[0m \u001b[1m82s\u001b[0m 83ms/step - accuracy: 0.8286 - loss: 0.5668 \n",
      "Epoch 2/23\n",
      "\u001b[1m938/938\u001b[0m \u001b[32m━━━━━━━━━━━━━━━━━━━━\u001b[0m\u001b[37m\u001b[0m \u001b[1m78s\u001b[0m 83ms/step - accuracy: 0.9712 - loss: 0.1031 \n",
      "Epoch 3/23\n",
      "\u001b[1m938/938\u001b[0m \u001b[32m━━━━━━━━━━━━━━━━━━━━\u001b[0m\u001b[37m\u001b[0m \u001b[1m77s\u001b[0m 82ms/step - accuracy: 0.9786 - loss: 0.0762 \n",
      "Epoch 4/23\n",
      "\u001b[1m938/938\u001b[0m \u001b[32m━━━━━━━━━━━━━━━━━━━━\u001b[0m\u001b[37m\u001b[0m \u001b[1m78s\u001b[0m 83ms/step - accuracy: 0.9827 - loss: 0.0624 \n",
      "Epoch 5/23\n",
      "\u001b[1m938/938\u001b[0m \u001b[32m━━━━━━━━━━━━━━━━━━━━\u001b[0m\u001b[37m\u001b[0m \u001b[1m77s\u001b[0m 82ms/step - accuracy: 0.9857 - loss: 0.0477 \n",
      "Epoch 6/23\n",
      "\u001b[1m938/938\u001b[0m \u001b[32m━━━━━━━━━━━━━━━━━━━━\u001b[0m\u001b[37m\u001b[0m \u001b[1m78s\u001b[0m 83ms/step - accuracy: 0.9872 - loss: 0.0484 \n",
      "Epoch 7/23\n",
      "\u001b[1m938/938\u001b[0m \u001b[32m━━━━━━━━━━━━━━━━━━━━\u001b[0m\u001b[37m\u001b[0m \u001b[1m77s\u001b[0m 82ms/step - accuracy: 0.9891 - loss: 0.0384 \n",
      "Epoch 8/23\n",
      "\u001b[1m938/938\u001b[0m \u001b[32m━━━━━━━━━━━━━━━━━━━━\u001b[0m\u001b[37m\u001b[0m \u001b[1m77s\u001b[0m 82ms/step - accuracy: 0.9892 - loss: 0.0381 \n",
      "Epoch 9/23\n",
      "\u001b[1m938/938\u001b[0m \u001b[32m━━━━━━━━━━━━━━━━━━━━\u001b[0m\u001b[37m\u001b[0m \u001b[1m75s\u001b[0m 80ms/step - accuracy: 0.9893 - loss: 0.0369 \n",
      "Epoch 10/23\n",
      "\u001b[1m938/938\u001b[0m \u001b[32m━━━━━━━━━━━━━━━━━━━━\u001b[0m\u001b[37m\u001b[0m \u001b[1m77s\u001b[0m 82ms/step - accuracy: 0.9910 - loss: 0.0329 \n",
      "Epoch 11/23\n",
      "\u001b[1m938/938\u001b[0m \u001b[32m━━━━━━━━━━━━━━━━━━━━\u001b[0m\u001b[37m\u001b[0m \u001b[1m75s\u001b[0m 80ms/step - accuracy: 0.9916 - loss: 0.0297 \n",
      "Epoch 12/23\n",
      "\u001b[1m938/938\u001b[0m \u001b[32m━━━━━━━━━━━━━━━━━━━━\u001b[0m\u001b[37m\u001b[0m \u001b[1m75s\u001b[0m 80ms/step - accuracy: 0.9917 - loss: 0.0281 \n",
      "Epoch 13/23\n",
      "\u001b[1m938/938\u001b[0m \u001b[32m━━━━━━━━━━━━━━━━━━━━\u001b[0m\u001b[37m\u001b[0m \u001b[1m75s\u001b[0m 80ms/step - accuracy: 0.9921 - loss: 0.0266 \n",
      "Epoch 14/23\n",
      "\u001b[1m938/938\u001b[0m \u001b[32m━━━━━━━━━━━━━━━━━━━━\u001b[0m\u001b[37m\u001b[0m \u001b[1m76s\u001b[0m 81ms/step - accuracy: 0.9928 - loss: 0.0262 \n",
      "Epoch 15/23\n",
      "\u001b[1m938/938\u001b[0m \u001b[32m━━━━━━━━━━━━━━━━━━━━\u001b[0m\u001b[37m\u001b[0m \u001b[1m76s\u001b[0m 81ms/step - accuracy: 0.9935 - loss: 0.0215 \n",
      "Epoch 16/23\n",
      "\u001b[1m938/938\u001b[0m \u001b[32m━━━━━━━━━━━━━━━━━━━━\u001b[0m\u001b[37m\u001b[0m \u001b[1m76s\u001b[0m 81ms/step - accuracy: 0.9936 - loss: 0.0217 \n",
      "Epoch 17/23\n",
      "\u001b[1m938/938\u001b[0m \u001b[32m━━━━━━━━━━━━━━━━━━━━\u001b[0m\u001b[37m\u001b[0m \u001b[1m77s\u001b[0m 82ms/step - accuracy: 0.9937 - loss: 0.0211 \n",
      "Epoch 18/23\n",
      "\u001b[1m938/938\u001b[0m \u001b[32m━━━━━━━━━━━━━━━━━━━━\u001b[0m\u001b[37m\u001b[0m \u001b[1m79s\u001b[0m 85ms/step - accuracy: 0.9942 - loss: 0.0193 \n",
      "Epoch 19/23\n",
      "\u001b[1m938/938\u001b[0m \u001b[32m━━━━━━━━━━━━━━━━━━━━\u001b[0m\u001b[37m\u001b[0m \u001b[1m81s\u001b[0m 86ms/step - accuracy: 0.9947 - loss: 0.0197 \n",
      "Epoch 20/23\n",
      "\u001b[1m938/938\u001b[0m \u001b[32m━━━━━━━━━━━━━━━━━━━━\u001b[0m\u001b[37m\u001b[0m \u001b[1m80s\u001b[0m 86ms/step - accuracy: 0.9949 - loss: 0.0163 \n",
      "Epoch 21/23\n",
      "\u001b[1m938/938\u001b[0m \u001b[32m━━━━━━━━━━━━━━━━━━━━\u001b[0m\u001b[37m\u001b[0m \u001b[1m80s\u001b[0m 85ms/step - accuracy: 0.9947 - loss: 0.0199 \n",
      "Epoch 22/23\n",
      "\u001b[1m938/938\u001b[0m \u001b[32m━━━━━━━━━━━━━━━━━━━━\u001b[0m\u001b[37m\u001b[0m \u001b[1m82s\u001b[0m 87ms/step - accuracy: 0.9954 - loss: 0.0151 \n",
      "Epoch 23/23\n",
      "\u001b[1m938/938\u001b[0m \u001b[32m━━━━━━━━━━━━━━━━━━━━\u001b[0m\u001b[37m\u001b[0m \u001b[1m83s\u001b[0m 89ms/step - accuracy: 0.9954 - loss: 0.0151 \n"
     ]
    }
   ],
   "source": [
    "# training the model on full data and re-evaluating \n",
    "\n",
    "full_model_3_layers = keras.models.clone_model(model)\n",
    "full_model_3_layers.compile(optimizer='adam',\n",
    "              loss='sparse_categorical_crossentropy',\n",
    "              metrics=['accuracy'])\n",
    "\n",
    "history_full_train = full_model_3_layers.fit(x_train_full, y_train_full,\n",
    "                    epochs= 23,\n",
    "                    batch_size=64)\n",
    "\n"
   ]
  },
  {
   "cell_type": "code",
   "execution_count": 107,
   "id": "7b336ea6-b939-4c24-bd56-fa264e4b18c3",
   "metadata": {},
   "outputs": [
    {
     "name": "stdout",
     "output_type": "stream",
     "text": [
      "\u001b[1m313/313\u001b[0m \u001b[32m━━━━━━━━━━━━━━━━━━━━\u001b[0m\u001b[37m\u001b[0m \u001b[1m5s\u001b[0m 14ms/step - accuracy: 0.9962 - loss: 0.0168\n"
     ]
    },
    {
     "data": {
      "text/plain": [
       "[0.014589677564799786, 0.9966999888420105]"
      ]
     },
     "execution_count": 107,
     "metadata": {},
     "output_type": "execute_result"
    }
   ],
   "source": [
    "full_model_3_layers.evaluate(x_test, y_test)"
   ]
  },
  {
   "cell_type": "markdown",
   "id": "7762355e-fd05-45d6-b2be-322e06f794c8",
   "metadata": {},
   "source": [
    "<h4> Saving the trained model </h4>"
   ]
  },
  {
   "cell_type": "code",
   "execution_count": null,
   "id": "f2e56969-be1d-4bc5-ac4f-b5384c1912fb",
   "metadata": {},
   "outputs": [],
   "source": [
    "# Uncomment this line and run it to save the trained model. \n",
    "\n",
    "#full_model_3_layers.save(\"mnist_cnn_model_9966_pcnt.keras\")"
   ]
  },
  {
   "cell_type": "code",
   "execution_count": null,
   "id": "75cc7272-26e9-43ba-b391-906a6f2091da",
   "metadata": {},
   "outputs": [],
   "source": []
  },
  {
   "cell_type": "code",
   "execution_count": null,
   "id": "3b87b5b0-8fbc-46ba-b154-bf69610bd6e3",
   "metadata": {},
   "outputs": [],
   "source": []
  },
  {
   "cell_type": "code",
   "execution_count": null,
   "id": "9a4c3dfb-dd07-4923-915b-cf823be291d3",
   "metadata": {},
   "outputs": [],
   "source": []
  }
 ],
 "metadata": {
  "kernelspec": {
   "display_name": "Python [conda env:torch-gpu]",
   "language": "python",
   "name": "conda-env-torch-gpu-py"
  },
  "language_info": {
   "codemirror_mode": {
    "name": "ipython",
    "version": 3
   },
   "file_extension": ".py",
   "mimetype": "text/x-python",
   "name": "python",
   "nbconvert_exporter": "python",
   "pygments_lexer": "ipython3",
   "version": "3.11.13"
  }
 },
 "nbformat": 4,
 "nbformat_minor": 5
}
